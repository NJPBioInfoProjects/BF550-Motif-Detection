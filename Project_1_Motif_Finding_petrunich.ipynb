{
 "cells": [
  {
   "cell_type": "code",
   "execution_count": 2,
   "id": "51d27690",
   "metadata": {
    "id": "51d27690"
   },
   "outputs": [],
   "source": [
    "from typing import List"
   ]
  },
  {
   "cell_type": "markdown",
   "id": "3bee5a2a",
   "metadata": {
    "id": "3bee5a2a"
   },
   "source": [
    "# Before you start：\n",
    "    1. No external packages is allowed, only built-in python packages.\n",
    "    2. If you cooperate, list your teammates’ name(s), but you will still submit your own assignments.\n",
    "    3. It is recommended to finish tasks sequentially. Please do not modify function names.\n",
    "    4. Please package your functions as one python code file to submit. Name your file as 'project_1_FirstName_LastName.py'. Please do not submit this notebook.\n",
    "    5. Have fun!"
   ]
  },
  {
   "cell_type": "markdown",
   "id": "d5fd0736",
   "metadata": {
    "id": "d5fd0736"
   },
   "source": [
    "## Task 1: Evolution as a Sequence of Mistakes\n",
    "\n",
    "A mutation is simply an error that occurs during the creation or replication of nucleic acids, particularly DNA. Since nucleic acids are crucial for cellular functions, mutations often have a ripple effect throughout the cell. Although mutations are errors, a rare mutation can provide a beneficial trait to the cell. In fact, the long-term effects of evolution are the cumulative result of advantageous microscopic mutations over generations.\n",
    "\n",
    "The most basic and common type of nucleic acid mutation is a point mutation, which involves the replacement of one base with another at a single nucleotide. In DNA, this also requires a change in the complementary base.\n",
    "\n",
    "DNA strands from different organisms or species are considered homologous if they share a common ancestor, and counting the base differences in homologous strands gives the minimum number of point mutations that could have occurred over their evolutionary history.\n",
    "\n",
    "We aim to minimize the number of point mutations separating two species because, based on the principle of parsimony, evolutionary histories should be explained as simply as possible."
   ]
  },
  {
   "cell_type": "markdown",
   "id": "a28fb90e",
   "metadata": {
    "id": "a28fb90e"
   },
   "source": [
    "### Problem:\n",
    "Given two strings $s$ and $t$ of equal length, the Hamming distance between $s$ and $t$, denoted $d_{\\mathrm{H}}(s, t)$, is the number of corresponding symbols that differ in $s$ and $t$\n",
    "\n",
    "<span style=\"color: green;\">Given</span>: Two DNA strings $s$ and $t$ of equal length (not exceeding 1 kbp).\n",
    "\n",
    "<span style=\"color: green;\">Return</span>: The Hamming distance $d_{\\mathrm{H}}(s, t)$."
   ]
  },
  {
   "cell_type": "markdown",
   "id": "febe8776",
   "metadata": {
    "id": "febe8776"
   },
   "source": [
    "<span style=\"color: blue;\">Sample dataset</span>:\n",
    "\n",
    "GAGCCTACTAACGGGAT \\\n",
    "CATCGTAATGACGGCCT\n",
    "\n",
    "<span style=\"color: blue;\">Sample output</span>: \\\n",
    "7"
   ]
  },
  {
   "cell_type": "code",
   "execution_count": 130,
   "id": "addf4737",
   "metadata": {
    "id": "addf4737"
   },
   "outputs": [
    {
     "name": "stdout",
     "output_type": "stream",
     "text": [
      "7\n"
     ]
    }
   ],
   "source": [
    "#TODO:\n",
    "def HammingDistance(s: str, t: str) -> int:\n",
    "    ham_dist = 0 #Initialize hamming distance value\n",
    "    for i in range(len(s)): #iterate through s and t at each index and compare\n",
    "        if s[i] != t[i]: #if s and t do not match at a given index, add 1 to hamming distance count\n",
    "            ham_dist += 1\n",
    "    \n",
    "    return(ham_dist)\n",
    "\n",
    "s = 'GAGCCTACTAACGGGAT'\n",
    "t = 'CATCGTAATGACGGCCT'\n",
    "\n",
    "print(HammingDistance(s, t))"
   ]
  },
  {
   "cell_type": "markdown",
   "id": "bdb1fba9",
   "metadata": {
    "id": "bdb1fba9"
   },
   "source": [
    "## Task 2: Translating RNA into Protein\n",
    "\n",
    "Just as nucleic acids are polymers of nucleotides, proteins are chains of smaller molecules called amino acids; 20 amino acids commonly appear in every species. How are proteins created? The genetic code, discovered throughout the course of a number of ingenious experiments in the late 1950s, details the translation of an RNA molecule called messenger RNA (mRNA) into amino acids for protein creation. The apparent difficulty in translation is that somehow 4 RNA bases must be translated into a language of 20 amino acids; in order for every possible amino acid to be created, we must translate 3-nucleobase strings (called codons) into amino acids. Note that there are 4<sup>3</sup>=64\n",
    " possible codons, so that multiple codons may encode the same amino acid. Two special types of codons are the start codon (AUG), which codes for the amino acid methionine always indicates the start of translation, and the three stop codons (UAA, UAG, UGA), which do not code for an amino acid and cause translation to end."
   ]
  },
  {
   "cell_type": "markdown",
   "id": "587c7499",
   "metadata": {
    "id": "587c7499"
   },
   "source": [
    "### Problem:\n",
    "The 20 commonly occurring amino acids are abbreviated by using 20 letters from the English alphabet (all letters except for B, J, O, U, X, and Z). Protein strings are constructed from these 20 symbols. Henceforth, the term genetic string will incorporate protein strings along with DNA strings and RNA strings.\n",
    "\n",
    "The RNA codon table dictates the details regarding the encoding of specific codons into the amino acid alphabet.\n",
    "\n",
    "<span style=\"color: green;\">Given</span>:  An RNA string $s$ corresponding to a strand of mRNA (of length at most 10 kbp).\n",
    "\n",
    "<span style=\"color: green;\">Return</span>: The protein string encoded by $s$."
   ]
  },
  {
   "cell_type": "markdown",
   "id": "53eed862",
   "metadata": {
    "id": "53eed862"
   },
   "source": [
    "<span style=\"color: blue;\">Sample dataset</span>:\n",
    "\n",
    "AUGGCCAUGGCGCCCAGAACUGAGAUCAAUAGUACCCGUAUUAACGGGUGA\n",
    "\n",
    "<span style=\"color: blue;\">Sample output</span>: \\\n",
    "MAMAPRTEINSTRING"
   ]
  },
  {
   "cell_type": "code",
   "execution_count": 135,
   "id": "7c8e601d",
   "metadata": {
    "id": "7c8e601d"
   },
   "outputs": [
    {
     "name": "stdout",
     "output_type": "stream",
     "text": [
      "MAMAPRTEINSTRING\n"
     ]
    }
   ],
   "source": [
    "CODON_TABLE = {\n",
    "    'AUG': 'M', 'UUU': 'F', 'UUC': 'F', 'UUA': 'L', 'UUG': 'L', 'UCU': 'S',\n",
    "    'UCC': 'S', 'UCA': 'S', 'UCG': 'S', 'UAU': 'Y', 'UAC': 'Y', 'UGU': 'C',\n",
    "    'UGC': 'C', 'UGG': 'W', 'CUU': 'L', 'CUC': 'L', 'CUA': 'L', 'CUG': 'L',\n",
    "    'CCU': 'P', 'CCC': 'P', 'CCA': 'P', 'CCG': 'P', 'CAU': 'H', 'CAC': 'H',\n",
    "    'CAA': 'Q', 'CAG': 'Q', 'CGU': 'R', 'CGC': 'R', 'CGA': 'R', 'CGG': 'R',\n",
    "    'AUU': 'I', 'AUC': 'I', 'AUA': 'I', 'ACU': 'T', 'ACC': 'T', 'ACA': 'T',\n",
    "    'ACG': 'T', 'AAU': 'N', 'AAC': 'N', 'AAA': 'K', 'AAG': 'K', 'AGU': 'S',\n",
    "    'AGC': 'S', 'AGA': 'R', 'AGG': 'R', 'GUU': 'V', 'GUC': 'V', 'GUA': 'V',\n",
    "    'GUG': 'V', 'GCU': 'A', 'GCC': 'A', 'GCA': 'A', 'GCG': 'A', 'GAU': 'D',\n",
    "    'GAC': 'D', 'GAA': 'E', 'GAG': 'E', 'GGU': 'G', 'GGC': 'G', 'GGA': 'G',\n",
    "    'GGG': 'G', 'UAA': 'Stop', 'UAG': 'Stop', 'UGA': 'Stop'\n",
    "}\n",
    "\n",
    "#TODO:\n",
    "def Translation(s: str) -> str:\n",
    "    protein = \"\"  # Start with an empty string\n",
    "    # Iterate through the RNA string in chunks of 3 (codons)\n",
    "    for i in range(0, len(s), 3):\n",
    "        codon = s[i:i + 3]\n",
    "        amino_acid = CODON_TABLE.get(codon, \"\")\n",
    "        if amino_acid == \"Stop\":\n",
    "            break  # Stop translation if a stop codon is found\n",
    "        protein += amino_acid  # Concatenate the amino acid to the protein string\n",
    "    return protein\n",
    "    \n",
    "str = \"AUGGCCAUGGCGCCCAGAACUGAGAUCAAUAGUACCCGUAUUAACGGGUGA\"\n",
    "print(Translation(str))"
   ]
  },
  {
   "cell_type": "markdown",
   "id": "76739342",
   "metadata": {
    "id": "76739342"
   },
   "source": [
    "## Task 3: Finding a Motif in DNA\n",
    "\n",
    "Discovering the same DNA segment in the genomes of two different organisms strongly suggests that it serves a similar function in both. Such shared DNA segments are referred to as motifs. However, the presence of multiple repeated DNA sequences, known as repeats, complicates the situation. These repeats occur far more frequently than random chance would predict, highlighting the structured nature of genomes"
   ]
  },
  {
   "cell_type": "markdown",
   "id": "17d01f3b",
   "metadata": {
    "id": "17d01f3b"
   },
   "source": [
    "### Problem:\n",
    "Given two strings $s$ and $t$, $t$ is a substring of $s$. If $t$ is contained as a contiguous collection of symbols in $s$ (as a result, $t$ must be no longer than $s$).\n",
    "\n",
    "The position of a symbol in a string is the total number of symbols found to its left, including itself (e.g., the positions of all occurrences of 'U' in \"AUGCUUCAGAAAGGUCUUACG\" are 2, 5, 6, 15, 17, and 18). The symbol at position $i$ of $s$ is denoted by $s[i]$.\n",
    "\n",
    "A substring of $s$ can be represented as $s[j:k]$, where $j$ and $k$ represent the starting and ending positions of the substring in $s$; for example, if $s$ = \"AUGCUUCAGAAAGGUCUUACG\", then $s[2:5]$ = \"UGCU\".\n",
    "\n",
    "The location of a substring $s[j:k]$ is its beginning position $j$; note that $t$ will have multiple locations in $s$ if it occurs more than once as a substring of $s$.\n",
    "\n",
    "<span style=\"color: green;\">Given</span>: Two DNA strings $s$ and $t$ (each of length at most 1 kbp).\n",
    "\n",
    "<span style=\"color: green;\">Return</span>: All locations of $t$ as a substring of $s$.\n"
   ]
  },
  {
   "cell_type": "markdown",
   "id": "6de8a670",
   "metadata": {
    "id": "6de8a670"
   },
   "source": [
    "<span style=\"color: blue;\">Sample dataset</span>:\n",
    "\n",
    "GATATATGCATATACTT \\\n",
    "ATAT\n",
    "\n",
    "<span style=\"color: blue;\">Sample output</span>: \\\n",
    "2 4 10"
   ]
  },
  {
   "cell_type": "code",
   "execution_count": 140,
   "id": "340747d9",
   "metadata": {
    "id": "340747d9"
   },
   "outputs": [
    {
     "data": {
      "text/plain": [
       "[2, 4, 10]"
      ]
     },
     "execution_count": 140,
     "metadata": {},
     "output_type": "execute_result"
    }
   ],
   "source": [
    "#TODO:\n",
    "def FindingMotif(s: str, t: str) -> list:\n",
    "    locations = []\n",
    "\n",
    "    for i in range(len(s) - len(t) + 1): #use +1 to ensure every potential start position of substring is covered\n",
    "        if s[i:i + len(t)] == t: #see if substring matches\n",
    "            locations.append(i + 1) #append starting location\n",
    "    return(locations)\n",
    "\n",
    "s= 'GATATATGCATATACTT'\n",
    "t= 'ATAT'\n",
    "FindingMotif(s, t)"
   ]
  },
  {
   "cell_type": "markdown",
   "id": "a7ac512c",
   "metadata": {
    "id": "a7ac512c"
   },
   "source": [
    "## Task 4: RNA Splicing\n",
    "\n",
    "In the nucleus, an enzyme called RNA polymerase (RNAP) starts transcription by breaking the bonds between DNA's complementary bases. It then creates pre-mRNA using one DNA strand as a template, adding complementary RNA bases, with uracil replacing thymine. The other DNA strand, known as the coding strand, is nearly identical to the RNA strand, except for thymine being replaced by uracil. As RNAP progresses, the separated DNA strands quickly rejoin. Pre-mRNA is then processed by removing non-coding segments (introns) and joining coding segments (exons) through a process called splicing, carried out by the spliceosome. Exons together form the gene's coding region, responsible for protein production."
   ]
  },
  {
   "cell_type": "markdown",
   "id": "c9490de3",
   "metadata": {
    "id": "c9490de3"
   },
   "source": [
    "### Problem:\n",
    "After identifying the exons and introns of an RNA string, we only need to delete the introns and concatenate the exons to form a new string ready for translation.\n",
    "\n",
    "The RNA codon table dictates the details regarding the encoding of specific codons into the amino acid alphabet.\n",
    "\n",
    "<span style=\"color: green;\">Given</span>:  A DNA string $s$ (of length at most 1 kbp) and a collection of substrings of $s$\n",
    " acting as introns. All strings are given in FASTA format.\n",
    "\n",
    "<span style=\"color: green;\">Return</span>: A protein string resulting from transcribing and translating the exons of $s$\n",
    ". (Note: Only one solution will exist for the dataset provided)"
   ]
  },
  {
   "cell_type": "markdown",
   "id": "7835bdfe",
   "metadata": {
    "id": "7835bdfe"
   },
   "source": [
    "<span style=\"color: blue;\">Sample dataset</span>:\n",
    "\n",
    "&gt;Pseudo_DNA \\\n",
    "ATGGTCTACATAGCTGACAAACAGCACGTAGCAATCGGTCGAATCTCGAGAGGCATATGGTCACATGATCGGTCGAGCGTGTTTCAAAGTTTGCGCCTAG \\\n",
    "&gt;Pseudo_intron1 \\\n",
    "ATCGGTCGAA \\\n",
    "&gt;Pseudo_intron2\\\n",
    "ATCGGTCGAGCGTGT\n",
    "\n",
    "<span style=\"color: blue;\">Sample output</span>: \\\n",
    "MVYIADKQHVASREAYGHMFKVCA"
   ]
  },
  {
   "cell_type": "code",
   "execution_count": 145,
   "id": "e94e9035",
   "metadata": {
    "id": "e94e9035"
   },
   "outputs": [
    {
     "name": "stdout",
     "output_type": "stream",
     "text": [
      "MVYIADKQHVASREAYGHMFKVCA\n"
     ]
    }
   ],
   "source": [
    "# hint: you need to handle the difference between DNA and RNA sequences\n",
    "#TODO:\n",
    "dna = '>Pseudo_DNA\\nATGGTCTACATAGCTGACAAACAGCACGTAGCAATCGGTCGAATCTCGAGAGGCATATGGTCACATGATCGGTCGAGCGTGTTTCAAAGTTTGCGCCTAG'\n",
    "introns = ['>Pseudo_intron2\\nATCGGTCGAA', '>Pseudo_intron2\\nATCGGTCGAGCGTGT']\n",
    "def RNASplicing(dna, introns) -> str:\n",
    "    dna_str = dna.split('\\n')[1] #omit header from fasta\n",
    "    introns_list = [] #omit header from fasta\n",
    "    for i in introns:\n",
    "        introns_list.append(i.split('\\n')[1])\n",
    "    for intron in introns_list:\n",
    "        dna_str = dna_str.replace(intron, '')  # Remove each intron\n",
    "    rna = dna_str.replace(\"T\", \"U\") # Replace T with U to convert to RNA\n",
    "    \n",
    "    protein = \"\"  # Initialize protein sequence\n",
    "    for i in range(0, len(rna), 3):\n",
    "        codon = rna[i:i + 3]  # Extract each codon\n",
    "        if codon in CODON_TABLE:\n",
    "            amino_acid = CODON_TABLE[codon]\n",
    "            if amino_acid == 'Stop':  # Stop codon encountered, stop translation\n",
    "                break\n",
    "            protein += amino_acid  # Add amino acid to the protein string\n",
    "    return protein\n",
    "    \n",
    "\n",
    "print(RNASplicing(dna, introns))"
   ]
  },
  {
   "cell_type": "markdown",
   "id": "4eb88de5",
   "metadata": {
    "id": "4eb88de5"
   },
   "source": [
    "## Task 5: Finding a Shared Motif"
   ]
  },
  {
   "cell_type": "markdown",
   "id": "cf93078c",
   "metadata": {
    "id": "cf93078c"
   },
   "source": [
    "### Problem:\n",
    "A common substring of a collection of strings is a substring of every member of the collection. We say that a common substring is a longest common substring if there does not exist a longer common substring. For example, \"CG\" is a common substring of \"ACGTACGT\" and \"AACCGTATA\", but it is not as long as possible; in this case, \"CGTA\" is a longest common substring of \"ACGTACGT\" and \"AACCGTATA\".\n",
    "\n",
    "Note that the longest common substring is not necessarily unique; for a simple example, \"AA\" and \"CC\" are both longest common substrings of \"AACC\" and \"CCAA\".\n",
    "\n",
    "<span style=\"color: green;\">Given</span>: A collection of $k$ (k≤100) DNA strings of length at most 1 kbp each in FASTA format.\n",
    "\n",
    "<span style=\"color: green;\">Return</span>: A longest common substring of the collection. (If multiple solutions exist, you may return any single solution)"
   ]
  },
  {
   "cell_type": "markdown",
   "id": "20ab7295",
   "metadata": {
    "id": "20ab7295"
   },
   "source": [
    "<span style=\"color: blue;\">Sample dataset</span>:\n",
    "\n",
    "&gt;seq_1 \\\n",
    "GATTACA \\\n",
    "&gt;seq_2 \\\n",
    "TAGACCA \\\n",
    "&gt;seq_3 \\\n",
    "ATACA\n",
    "\n",
    "<span style=\"color: blue;\">Sample output</span>: \\\n",
    "TA"
   ]
  },
  {
   "cell_type": "code",
   "execution_count": 201,
   "id": "7a4aa35f",
   "metadata": {
    "id": "7a4aa35f"
   },
   "outputs": [
    {
     "name": "stdout",
     "output_type": "stream",
     "text": [
      "TA\n"
     ]
    }
   ],
   "source": [
    "# hint: find the shortest string first\n",
    "#TODO:\n",
    "k = ['>seq_1\\nGATTACA', '>seq_2\\nTAGACCA', '>seq_2\\nATACA']\n",
    "\n",
    "def LongestCommonSubstring(k) -> str:\n",
    "    #omit headers from fasta\n",
    "    seqs = []\n",
    "    for i in k:\n",
    "        seqs.append(i.split('\\n')[1])\n",
    "    \n",
    "    #use shortest sequence to prevent indexing error, store length as n\n",
    "    shortest = min(seqs)\n",
    "    n = len(shortest)\n",
    "\n",
    "    for length in range(n, 0, -1):  # From longest to shortest\n",
    "        for start in range(n - length + 1):  # All possible starting points\n",
    "            substring = shortest[start:start + length]\n",
    "            # Check if substring is present in all other sequences\n",
    "            if all(substring in seq for seq in seqs):\n",
    "                return substring  # Return as soon as the longest common substring is found\n",
    "    # If no common substring is found\n",
    "    return \"No common substring found\"\n",
    "\n",
    "print(LongestCommonSubstring(k))"
   ]
  },
  {
   "cell_type": "markdown",
   "id": "4f12540e",
   "metadata": {
    "id": "4f12540e"
   },
   "source": [
    "## Task 6: Finding a Spliced Motif\n",
    "\n",
    "In “Finding a Motif in DNA”, we searched for occurrences of a motif as a substring of a larger database genetic string. However, a DNA strand coding for a protein is often interspersed with introns (see “RNA Splicing”), thus we need a way to recognize a motif that has been chopped up into pieces along a chromosome."
   ]
  },
  {
   "cell_type": "markdown",
   "id": "0d2822cd",
   "metadata": {
    "id": "0d2822cd"
   },
   "source": [
    "### Problem:\n",
    "A subsequence of a string is a collection of symbols contained in order (though not necessarily contiguously) in the string (e.g., ACG is a subsequence of TATGCTAAGATC). The indices of a subsequence are the positions in the string at which the symbols of the subsequence appear; thus, the indices of ACG in TATGCTAAGATC can be represented by (2, 5, 9).\n",
    "\n",
    "As a substring can have multiple locations, a subsequence can have multiple collections of indices, and the same index can be reused in more than one appearance of the subsequence; for example, ACG is a subsequence of AACCGGTT in 8 different ways.\n",
    "\n",
    "<span style=\"color: green;\">Given</span>: Two DNA strings $s$ and $t$ (each of length at most 1 kbp) in FASTA format.\n",
    "\n",
    "<span style=\"color: green;\">Return</span>: One collection of indices of $s$ in which the symbols of $t$ appear as a subsequence of $s$. If multiple solutions exist, you may return any one."
   ]
  },
  {
   "cell_type": "markdown",
   "id": "bce9b878",
   "metadata": {
    "id": "bce9b878"
   },
   "source": [
    "<span style=\"color: blue;\">Sample dataset</span>:\n",
    "\n",
    "&gt;seq_1 \\\n",
    "ACGTACGTGACG \\\n",
    "&gt;seq_2 \\\n",
    "GTA\n",
    "\n",
    "<span style=\"color: blue;\">Sample output</span>: \\\n",
    "3 4 5"
   ]
  },
  {
   "cell_type": "code",
   "execution_count": 178,
   "id": "749fb012",
   "metadata": {
    "id": "749fb012"
   },
   "outputs": [
    {
     "name": "stdout",
     "output_type": "stream",
     "text": [
      "[3, 4, 5]\n"
     ]
    }
   ],
   "source": [
    "#TODO\n",
    "def FindingSubsequence(s: str, t: str):\n",
    "    #omit header from fasta format\n",
    "    s_split = s.split('\\n')[1]\n",
    "    t_split = t.split('\\n')[1]\n",
    "    indices = []  # To store the 1-indexed positions\n",
    "    t_index = 0\n",
    "\n",
    "    for i in range(len(s_split)):\n",
    "        if t_index >= len(t_split):  # If we have matched all characters in t, break the loop\n",
    "            break\n",
    "        if s_split[i] == t_split[t_index]:  # If a character matches\n",
    "            indices.append(i + 1)  # Store the 1-indexed position\n",
    "            t_index += 1  # Move to the next character in t\n",
    "    return(indices)\n",
    "    \n",
    "s = \">seq_1\\nACGTACGTGACG\"\n",
    "t = \">seq_2\\nGTA\"\n",
    "\n",
    "result = FindingSubsequence(s, t)\n",
    "print(result)  # Output: [3, 4, 5]"
   ]
  },
  {
   "cell_type": "markdown",
   "id": "bb9cb9e4",
   "metadata": {
    "id": "bb9cb9e4"
   },
   "source": [
    "## Task 7: Finding a Shared Spliced Motif\n",
    "\n",
    "In \"Finding a Shared Motif,\" we explored how to search a database of genetic strings to find the longest common substring, which represented a motif shared by both strings. However, as discussed in \"RNA Splicing,\" coding regions in DNA are interrupted by introns that don't code for proteins.\n",
    "\n",
    "Thus, we need to identify shared motifs that are spread across exons, meaning the motifs don't have to be continuous. To represent this, we must use subsequences."
   ]
  },
  {
   "cell_type": "markdown",
   "id": "a0832338",
   "metadata": {
    "id": "a0832338"
   },
   "source": [
    "### Problem:\n",
    "A string $u$ is a common subsequence of strings $s$ and $t$. If the symbols of $u$ appear in order as a subsequence of both $s$ and $t$. For example, \"ACTG\" is a common subsequence of \"AACCTTGG\" and \"ACACTGTGA\".\n",
    "\n",
    "Analogously to the definition of longest common substring, $u$ is a longest common subsequence of $s$ and $t$ if there does not exist a longer common subsequence of the two strings. Continuing our above example, \"ACCTTG\" is a longest common subsequence of \"AACCTTGG\" and \"ACACTGTGA\", as is \"AACTGG\".\n",
    "\n",
    "<span style=\"color: green;\">Given</span>: Two DNA strings $s$ and $t$ (each of length at most 1 kbp) in FASTA format.\n",
    "\n",
    "<span style=\"color: green;\">Return</span>:  A longest common subsequence of $s$ and $t$. If multiple solutions exist, you may return any one."
   ]
  },
  {
   "cell_type": "markdown",
   "id": "895151ac",
   "metadata": {
    "id": "895151ac"
   },
   "source": [
    "<span style=\"color: blue;\">Sample dataset</span>:\n",
    "\n",
    "&gt;seq_1 \\\n",
    "AACCTTGG \\\n",
    "&gt;seq_2 \\\n",
    "ACACTGTGA\n",
    "\n",
    "<span style=\"color: blue;\">Sample output</span>: \\\n",
    "ACCTGG"
   ]
  },
  {
   "cell_type": "code",
   "execution_count": 194,
   "id": "a21386a4",
   "metadata": {
    "id": "a21386a4"
   },
   "outputs": [
    {
     "name": "stdout",
     "output_type": "stream",
     "text": [
      "ACCTGG\n"
     ]
    }
   ],
   "source": [
    "# hint: use dynamic programming\n",
    "#TODO\n",
    "def LongestCommonSubsequence(s_split: str, t_split: str) -> str:\n",
    "    #omit header from fasta format\n",
    "    s_split = s.split('\\n')[1]\n",
    "    t_split = t.split('\\n')[1]\n",
    "    \n",
    "    m, n = len(s_split), len(t_split)\n",
    "\n",
    "    # Initialize a 2D lcs_table with all zeroes\n",
    "    lcs_table = [[0] * (n + 1) for _ in range(m + 1)]\n",
    "\n",
    "    # Fill the LCS table with the lengths of the LCS\n",
    "    for i in range(1, m + 1):\n",
    "        for j in range(1, n + 1):\n",
    "            if s_split[i - 1] == t_split[j - 1]:  # If characters match\n",
    "                lcs_table[i][j] = lcs_table[i - 1][j - 1] + 1\n",
    "            else:  # Take the maximum of skipping either character\n",
    "                lcs_table[i][j] = max(lcs_table[i - 1][j], lcs_table[i][j - 1])\n",
    "\n",
    "    # Reconstruct LCS from the lcs_table\n",
    "    lcs = []\n",
    "    i, j = m, n\n",
    "    while i > 0 and j > 0:\n",
    "        if s_split[i - 1] == t_split[j - 1]:  # If characters match, add to LCS\n",
    "            lcs.append(s_split[i - 1])\n",
    "            i -= 1\n",
    "            j -= 1\n",
    "        elif lcs_table[i - 1][j] > lcs_table[i][j - 1]:  # Move up in the table\n",
    "            i -= 1\n",
    "        else:  # Move left in the table\n",
    "            j -= 1\n",
    "\n",
    "    # Reverse the LCS since it was constructed backwards\n",
    "    return ''.join(reversed(lcs))\n",
    "\n",
    "\n",
    "s = \">seq_1\\nAACCTTGG\"\n",
    "t = \">seq_2\\nACACTGTGA\"\n",
    "\n",
    "result = LongestCommonSubsequence(s, t)\n",
    "print(result)  # Output: \"ACCTGG\""
   ]
  },
  {
   "cell_type": "markdown",
   "id": "7ed9bb60",
   "metadata": {
    "id": "7ed9bb60"
   },
   "source": [
    "## Task 8: Two Motifs, One Gene\n",
    "\n",
    "In the previous task, we found the longest motif that could have been shared by two genetic strings, allowing for the motif to be split onto multiple exons in the process. As a result, we needed to find a longest common subsequence of the two strings (which extended the problem of finding a longest common substring from “Finding a Shared Motif”).\n",
    "\n",
    "In this problem, we consider an inverse problem of sorts in which we are given two different motifs and we wish to interleave them together in such a way as to produce a shortest possible genetic string in which both motifs occur as subsequences.\n",
    "\n",
    "Thus, we need to identify shared motifs that are spread across exons, meaning the motifs don't have to be continuous."
   ]
  },
  {
   "cell_type": "markdown",
   "id": "b82b8bbd",
   "metadata": {
    "id": "b82b8bbd"
   },
   "source": [
    "### Problem:\n",
    "A string $s$ is a supersequence of another string $t$ if $s$ contains $t$ as a subsequence. A common supersequence of strings $s$ and $t$ is a string that serves as a supersequence of both $s$ and $t$. For example, \"GACCTAGGAACTC\" serves as a common supersequence of \"ACGTC\" and \"ATAT\". A shortest common supersequence of $s$ and $t$ is a supersequence for which there does not exist a shorter common supersequence. Continuing our example, \"ACGTACT\" is a shortest common supersequence of \"ACGTC\" and \"ATAT\".\n",
    "\n",
    "<span style=\"color: green;\">Given</span>: Two DNA strings $s$ and $t$.\n",
    "\n",
    "<span style=\"color: green;\">Return</span>: A shortest common supersequence of $s$ and $t$. If multiple solutions exist, you may return any one."
   ]
  },
  {
   "cell_type": "markdown",
   "id": "2df6249d",
   "metadata": {
    "id": "2df6249d"
   },
   "source": [
    "<span style=\"color: blue;\">Sample dataset</span>:\n",
    "\n",
    "ATCTGAT \\\n",
    "TGCATA\n",
    "\n",
    "<span style=\"color: blue;\">Sample output</span>: \\\n",
    "ATGCATGAT"
   ]
  },
  {
   "cell_type": "code",
   "execution_count": 199,
   "id": "ce36907d",
   "metadata": {
    "id": "ce36907d"
   },
   "outputs": [
    {
     "name": "stdout",
     "output_type": "stream",
     "text": [
      "ATGCATGAT\n"
     ]
    }
   ],
   "source": [
    "# hint: use LongestCommonSubsequence\n",
    "#TODO\n",
    "def ShortestCommonSupersequence(s: str, t: str) -> str:\n",
    "    # Find LCS of s and t using dynamic programming\n",
    "    m, n = len(s), len(t)\n",
    "    lcs_table = [[0] * (n + 1) for _ in range(m + 1)]  # Initialize the LCS table\n",
    "\n",
    "    # Fill the LCS table with the lengths of the LCS\n",
    "    for i in range(1, m + 1):\n",
    "        for j in range(1, n + 1):\n",
    "            if s[i - 1] == t[j - 1]:\n",
    "                lcs_table[i][j] = lcs_table[i - 1][j - 1] + 1\n",
    "            else:\n",
    "                lcs_table[i][j] = max(lcs_table[i - 1][j], lcs_table[i][j - 1])\n",
    "\n",
    "    # Trace back through the LCS table to construct the SCS\n",
    "    i, j = m, n\n",
    "    scs = []\n",
    "\n",
    "    # Trace back to build the Shortest Common Supersequence\n",
    "    while i > 0 and j > 0:\n",
    "        if s[i - 1] == t[j - 1]:\n",
    "            # Add to the SCS and move diagonally if characters match\n",
    "            scs.append(s[i - 1])\n",
    "            i -= 1\n",
    "            j -= 1\n",
    "        elif lcs_table[i - 1][j] >= lcs_table[i][j - 1]:\n",
    "            # If coming from above, add s[i-1]\n",
    "            scs.append(s[i - 1])\n",
    "            i -= 1\n",
    "        else:\n",
    "            # If coming from the left, add t[j-1]\n",
    "            scs.append(t[j - 1])\n",
    "            j -= 1\n",
    "\n",
    "    # Add any remaining characters from s or t\n",
    "    while i > 0:\n",
    "        scs.append(s[i - 1])\n",
    "        i -= 1\n",
    "    while j > 0:\n",
    "        scs.append(t[j - 1])\n",
    "        j -= 1\n",
    "\n",
    "    # reverse result\n",
    "    return ''.join(reversed(scs))\n",
    "\n",
    "s = \"ATCTGAT\"\n",
    "t = \"TGCATA\"\n",
    "\n",
    "result = ShortestCommonSupersequence(s, t)\n",
    "print(result)  # Expected Output: \"ATGCATGAT\""
   ]
  },
  {
   "cell_type": "code",
   "execution_count": null,
   "id": "48762503-cdbb-49ea-ab7b-311dfdb90a3f",
   "metadata": {},
   "outputs": [],
   "source": []
  }
 ],
 "metadata": {
  "colab": {
   "provenance": []
  },
  "kernelspec": {
   "display_name": "base",
   "language": "python",
   "name": "python3"
  },
  "language_info": {
   "codemirror_mode": {
    "name": "ipython",
    "version": 3
   },
   "file_extension": ".py",
   "mimetype": "text/x-python",
   "name": "python",
   "nbconvert_exporter": "python",
   "pygments_lexer": "ipython3",
   "version": "3.12.2"
  }
 },
 "nbformat": 4,
 "nbformat_minor": 5
}
